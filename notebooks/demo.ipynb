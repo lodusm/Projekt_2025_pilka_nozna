{
 "cells": [
  {
   "cell_type": "markdown",
   "metadata": {},
   "source": [
    "Ogólny przegląd danych ściągniętych z StatsBomb przechowywanych w bazie MongoDB."
   ]
  },
  {
   "cell_type": "code",
   "execution_count": 1,
   "metadata": {},
   "outputs": [],
   "source": [
    "import pandas as pd\n",
    "from statsbombpy import sb\n",
    "from pymongo import MongoClient"
   ]
  },
  {
   "cell_type": "code",
   "execution_count": 2,
   "metadata": {},
   "outputs": [],
   "source": [
    "MONGO_URI = \"mongodb://localhost:27017/\"\n",
    "DB_NAME = \"football_data\"\n",
    "MATCHES_COLLECTION = \"matches\"\n",
    "EVENTS_COLLECTION = \"events\"\n",
    "\n",
    "client = MongoClient(MONGO_URI)\n",
    "db = client[DB_NAME]"
   ]
  },
  {
   "cell_type": "code",
   "execution_count": 12,
   "metadata": {},
   "outputs": [
    {
     "name": "stdout",
     "output_type": "stream",
     "text": [
      "   match_id  minute       team\n",
      "0    266498      39  Barcelona\n",
      "1    266310      72  Barcelona\n",
      "2    267576      29  Barcelona\n",
      "3    266653      22  Barcelona\n",
      "4    266653      52  Barcelona\n"
     ]
    }
   ],
   "source": [
    "#gole strzelone przez danego zawodnika\n",
    "player_name = \"Lionel Andrés Messi Cuccittini\"\n",
    "query = {\n",
    "    \"type\": \"Shot\",\n",
    "    \"shot_outcome\": \"Goal\",\n",
    "    \"player\": player_name\n",
    "}\n",
    "projection = {\n",
    "    \"_id\": 0,\n",
    "    \"match_id\": 1,\n",
    "    \"minute\": 1,\n",
    "    \"team\": 1,\n",
    "}\n",
    "messi_goals_df = pd.DataFrame(list(db[EVENTS_COLLECTION].find(query, projection)))\n",
    "print(messi_goals_df.head())"
   ]
  },
  {
   "cell_type": "code",
   "execution_count": 13,
   "metadata": {},
   "outputs": [
    {
     "name": "stdout",
     "output_type": "stream",
     "text": [
      "   match_id  minute       team                opponent\n",
      "0    266498      39  Barcelona                  Getafe\n",
      "1    266310      72  Barcelona  RC Deportivo La Coruña\n",
      "2    267576      29  Barcelona         Atlético Madrid\n",
      "3    266653      22  Barcelona          Rayo Vallecano\n",
      "4    266653      52  Barcelona          Rayo Vallecano\n"
     ]
    }
   ],
   "source": [
    "#dodanie kolumny z informacją przeciwko komu strzelił\n",
    "matches_df = pd.DataFrame(list(db[MATCHES_COLLECTION].find({}, {\"_id\": 0, \"match_id\": 1, \"home_team\": 1, \"away_team\": 1})))\n",
    "messi_goals_df = messi_goals_df.merge(matches_df, on=\"match_id\", how=\"left\")\n",
    "messi_goals_df[\"opponent\"] = messi_goals_df.apply(\n",
    "    lambda row: row[\"away_team\"] if row[\"team\"] == row[\"home_team\"] else row[\"home_team\"], axis=1\n",
    ")\n",
    "\n",
    "messi_goals_df = messi_goals_df.drop(columns=[\"home_team\", \"away_team\"])\n",
    "\n",
    "print(messi_goals_df.head())"
   ]
  },
  {
   "cell_type": "code",
   "execution_count": null,
   "metadata": {},
   "outputs": [
    {
     "data": {
      "text/html": [
       "<div>\n",
       "<style scoped>\n",
       "    .dataframe tbody tr th:only-of-type {\n",
       "        vertical-align: middle;\n",
       "    }\n",
       "\n",
       "    .dataframe tbody tr th {\n",
       "        vertical-align: top;\n",
       "    }\n",
       "\n",
       "    .dataframe thead th {\n",
       "        text-align: right;\n",
       "    }\n",
       "</style>\n",
       "<table border=\"1\" class=\"dataframe\">\n",
       "  <thead>\n",
       "    <tr style=\"text-align: right;\">\n",
       "      <th></th>\n",
       "      <th>match_id</th>\n",
       "      <th>minute</th>\n",
       "      <th>player</th>\n",
       "      <th>team</th>\n",
       "    </tr>\n",
       "  </thead>\n",
       "  <tbody>\n",
       "    <tr>\n",
       "      <th>0</th>\n",
       "      <td>3825700</td>\n",
       "      <td>2</td>\n",
       "      <td>Danilo Luiz da Silva</td>\n",
       "      <td>Real Madrid</td>\n",
       "    </tr>\n",
       "    <tr>\n",
       "      <th>1</th>\n",
       "      <td>3825700</td>\n",
       "      <td>9</td>\n",
       "      <td>Antonio Amaya Carazo</td>\n",
       "      <td>Rayo Vallecano</td>\n",
       "    </tr>\n",
       "    <tr>\n",
       "      <th>2</th>\n",
       "      <td>3825700</td>\n",
       "      <td>11</td>\n",
       "      <td>Jozabed Sánchez Ruiz</td>\n",
       "      <td>Rayo Vallecano</td>\n",
       "    </tr>\n",
       "    <tr>\n",
       "      <th>3</th>\n",
       "      <td>3825700</td>\n",
       "      <td>24</td>\n",
       "      <td>Gareth Frank Bale</td>\n",
       "      <td>Real Madrid</td>\n",
       "    </tr>\n",
       "    <tr>\n",
       "      <th>4</th>\n",
       "      <td>3825700</td>\n",
       "      <td>29</td>\n",
       "      <td>Cristiano Ronaldo dos Santos Aveiro</td>\n",
       "      <td>Real Madrid</td>\n",
       "    </tr>\n",
       "    <tr>\n",
       "      <th>5</th>\n",
       "      <td>3825700</td>\n",
       "      <td>40</td>\n",
       "      <td>Gareth Frank Bale</td>\n",
       "      <td>Real Madrid</td>\n",
       "    </tr>\n",
       "    <tr>\n",
       "      <th>6</th>\n",
       "      <td>3825700</td>\n",
       "      <td>47</td>\n",
       "      <td>Karim Benzema</td>\n",
       "      <td>Real Madrid</td>\n",
       "    </tr>\n",
       "    <tr>\n",
       "      <th>7</th>\n",
       "      <td>3825700</td>\n",
       "      <td>52</td>\n",
       "      <td>Cristiano Ronaldo dos Santos Aveiro</td>\n",
       "      <td>Real Madrid</td>\n",
       "    </tr>\n",
       "    <tr>\n",
       "      <th>8</th>\n",
       "      <td>3825700</td>\n",
       "      <td>60</td>\n",
       "      <td>Gareth Frank Bale</td>\n",
       "      <td>Real Madrid</td>\n",
       "    </tr>\n",
       "    <tr>\n",
       "      <th>9</th>\n",
       "      <td>3825700</td>\n",
       "      <td>69</td>\n",
       "      <td>Gareth Frank Bale</td>\n",
       "      <td>Real Madrid</td>\n",
       "    </tr>\n",
       "    <tr>\n",
       "      <th>10</th>\n",
       "      <td>3825700</td>\n",
       "      <td>78</td>\n",
       "      <td>Karim Benzema</td>\n",
       "      <td>Real Madrid</td>\n",
       "    </tr>\n",
       "    <tr>\n",
       "      <th>11</th>\n",
       "      <td>3825700</td>\n",
       "      <td>89</td>\n",
       "      <td>Karim Benzema</td>\n",
       "      <td>Real Madrid</td>\n",
       "    </tr>\n",
       "  </tbody>\n",
       "</table>\n",
       "</div>"
      ],
      "text/plain": [
       "    match_id  minute                               player            team\n",
       "0    3825700       2                 Danilo Luiz da Silva     Real Madrid\n",
       "1    3825700       9                 Antonio Amaya Carazo  Rayo Vallecano\n",
       "2    3825700      11                 Jozabed Sánchez Ruiz  Rayo Vallecano\n",
       "3    3825700      24                    Gareth Frank Bale     Real Madrid\n",
       "4    3825700      29  Cristiano Ronaldo dos Santos Aveiro     Real Madrid\n",
       "5    3825700      40                    Gareth Frank Bale     Real Madrid\n",
       "6    3825700      47                        Karim Benzema     Real Madrid\n",
       "7    3825700      52  Cristiano Ronaldo dos Santos Aveiro     Real Madrid\n",
       "8    3825700      60                    Gareth Frank Bale     Real Madrid\n",
       "9    3825700      69                    Gareth Frank Bale     Real Madrid\n",
       "10   3825700      78                        Karim Benzema     Real Madrid\n",
       "11   3825700      89                        Karim Benzema     Real Madrid"
      ]
     },
     "execution_count": 17,
     "metadata": {},
     "output_type": "execute_result"
    }
   ],
   "source": [
    "#gole z danego meczu Real Madrid vs Rayo Vallecano\n",
    "match_query = {\"home_team\": \"Real Madrid\", \"away_team\": \"Rayo Vallecano\"}\n",
    "match = db[MATCHES_COLLECTION].find_one(match_query, {\"_id\": 0, \"match_id\": 1})\n",
    "\n",
    "match_id = match[\"match_id\"]\n",
    "\n",
    "goal_query = {\n",
    "    \"match_id\": match_id,\n",
    "    \"type\": \"Shot\",\n",
    "    \"shot_outcome\": \"Goal\"\n",
    "}\n",
    "\n",
    "projection = {\n",
    "    \"_id\": 0, \n",
    "    \"match_id\": 1,\n",
    "    \"minute\": 1,\n",
    "    \"player\": 1,\n",
    "    \"team\": 1,\n",
    "\n",
    "}\n",
    "goals_df = pd.DataFrame(list(db[EVENTS_COLLECTION].find(goal_query, projection)))\n",
    "\n",
    "goals_df"
   ]
  }
 ],
 "metadata": {
  "kernelspec": {
   "display_name": ".env",
   "language": "python",
   "name": "python3"
  },
  "language_info": {
   "codemirror_mode": {
    "name": "ipython",
    "version": 3
   },
   "file_extension": ".py",
   "mimetype": "text/x-python",
   "name": "python",
   "nbconvert_exporter": "python",
   "pygments_lexer": "ipython3",
   "version": "3.12.4"
  }
 },
 "nbformat": 4,
 "nbformat_minor": 2
}
